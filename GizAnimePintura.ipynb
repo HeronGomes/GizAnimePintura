{
 "cells": [
  {
   "cell_type": "code",
   "execution_count": 3,
   "id": "flush-butler",
   "metadata": {},
   "outputs": [],
   "source": [
    "import cv2 as cv\n",
    "import numpy as np"
   ]
  },
  {
   "cell_type": "code",
   "execution_count": 207,
   "id": "burning-taste",
   "metadata": {},
   "outputs": [],
   "source": [
    "img_original_A = cv.imread('Tiara_C.jpg',cv.IMREAD_COLOR)"
   ]
  },
  {
   "cell_type": "code",
   "execution_count": 208,
   "id": "leading-virgin",
   "metadata": {},
   "outputs": [],
   "source": [
    "gray = cv.cvtColor(img_original_A, cv.COLOR_BGR2GRAY)\n",
    "gray = cv.medianBlur(gray, 7)\n",
    "edges = cv.adaptiveThreshold(gray,255,cv.ADAPTIVE_THRESH_MEAN_C,cv.THRESH_BINARY,13,2.5)\n",
    "color = cv.bilateralFilter(img_original_A, 12, 250, 250)\n",
    "cartoon = cv.bitwise_or(color, color, mask=edges)"
   ]
  },
  {
   "cell_type": "code",
   "execution_count": 209,
   "id": "furnished-giant",
   "metadata": {},
   "outputs": [],
   "source": [
    "cv.imshow('Teste',cartoon)\n",
    "cv.waitKey()\n",
    "cv.destroyAllWindows()"
   ]
  },
  {
   "cell_type": "code",
   "execution_count": null,
   "id": "standard-rouge",
   "metadata": {},
   "outputs": [],
   "source": [
    "cartoon_image1, cartoon_image2  = cv.pencilSketch(img_original_A, sigma_s=20, sigma_r=0.3, shade_factor=0.02)\n",
    "cv.imshow('pencil', cartoon_image2)  \n",
    "cv.waitKey()  \n",
    "cv.destroyAllWindows()"
   ]
  },
  {
   "cell_type": "code",
   "execution_count": 206,
   "id": "sustained-acquisition",
   "metadata": {},
   "outputs": [
    {
     "data": {
      "text/plain": [
       "True"
      ]
     },
     "execution_count": 206,
     "metadata": {},
     "output_type": "execute_result"
    }
   ],
   "source": []
  },
  {
   "cell_type": "code",
   "execution_count": 5,
   "id": "wireless-python",
   "metadata": {},
   "outputs": [],
   "source": []
  },
  {
   "cell_type": "code",
   "execution_count": 15,
   "id": "wrong-collective",
   "metadata": {},
   "outputs": [
    {
     "data": {
      "text/plain": [
       "(1280, 720, 3)"
      ]
     },
     "execution_count": 15,
     "metadata": {},
     "output_type": "execute_result"
    }
   ],
   "source": [
    "img_original_A.shape"
   ]
  },
  {
   "cell_type": "code",
   "execution_count": 29,
   "id": "marine-recognition",
   "metadata": {},
   "outputs": [],
   "source": [
    "img_original_A = cv.imread('ArteA.jpg')\n",
    "imgAssinatura = np.zeros((50,441,3),np.uint8)\n",
    "cv.putText(imgAssinatura,'Draw My Crush: Heron TF Gomes',(5,25),cv.FONT_HERSHEY_SCRIPT_COMPLEX ,0.7,(190,190,190),1,cv.LINE_AA )\n",
    "cv.putText(imgAssinatura,'11/04/2021',(5,45),cv.FONT_HERSHEY_SCRIPT_SIMPLEX ,0.4,(190,190,190),1,cv.LINE_AA )\n",
    "imgSalvar = cv.vconcat((img_original_A,imgAssinatura))\n",
    "cv.imshow('pencil', imgSalvar)  \n",
    "cv.waitKey()  \n",
    "cv.destroyAllWindows()"
   ]
  },
  {
   "cell_type": "code",
   "execution_count": null,
   "id": "immune-galaxy",
   "metadata": {},
   "outputs": [],
   "source": [
    "cv.imwrite('ArteA_.jpg',imgSalvar)"
   ]
  }
 ],
 "metadata": {
  "kernelspec": {
   "display_name": "Python 3",
   "language": "python",
   "name": "python3"
  },
  "language_info": {
   "codemirror_mode": {
    "name": "ipython",
    "version": 3
   },
   "file_extension": ".py",
   "mimetype": "text/x-python",
   "name": "python",
   "nbconvert_exporter": "python",
   "pygments_lexer": "ipython3",
   "version": "3.9.1"
  }
 },
 "nbformat": 4,
 "nbformat_minor": 5
}
